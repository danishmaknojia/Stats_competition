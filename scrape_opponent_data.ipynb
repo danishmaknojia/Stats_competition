{
 "cells": [
  {
   "cell_type": "code",
   "execution_count": 4,
   "metadata": {},
   "outputs": [],
   "source": [
    "import pandas as pd\n",
    "\n",
    "pd.set_option(\"display.max_columns\", None)\n",
    "pd.set_option(\"display.max_rows\", None)"
   ]
  },
  {
   "cell_type": "code",
   "execution_count": 5,
   "metadata": {},
   "outputs": [
    {
     "data": {
      "text/html": [
       "<div>\n",
       "<style scoped>\n",
       "    .dataframe tbody tr th:only-of-type {\n",
       "        vertical-align: middle;\n",
       "    }\n",
       "\n",
       "    .dataframe tbody tr th {\n",
       "        vertical-align: top;\n",
       "    }\n",
       "\n",
       "    .dataframe thead th {\n",
       "        text-align: right;\n",
       "    }\n",
       "</style>\n",
       "<table border=\"1\" class=\"dataframe\">\n",
       "  <thead>\n",
       "    <tr style=\"text-align: right;\">\n",
       "      <th></th>\n",
       "      <th>Location</th>\n",
       "      <th>Team</th>\n",
       "      <th>Opponent</th>\n",
       "      <th>ADJO</th>\n",
       "      <th>ADJD</th>\n",
       "      <th>EFG%</th>\n",
       "      <th>TO%</th>\n",
       "      <th>OR%</th>\n",
       "      <th>FTR</th>\n",
       "      <th>Opp EFG%</th>\n",
       "      <th>Opp TO%</th>\n",
       "      <th>Opp OR%</th>\n",
       "      <th>Opp FTR</th>\n",
       "    </tr>\n",
       "  </thead>\n",
       "  <tbody>\n",
       "    <tr>\n",
       "      <th>0</th>\n",
       "      <td>Neutral</td>\n",
       "      <td>Dayton</td>\n",
       "      <td>Cincinnati</td>\n",
       "      <td>118.7</td>\n",
       "      <td>102.5</td>\n",
       "      <td>56.8</td>\n",
       "      <td>13.1</td>\n",
       "      <td>29.5</td>\n",
       "      <td>24.6</td>\n",
       "      <td>57.4</td>\n",
       "      <td>14.2</td>\n",
       "      <td>36.2</td>\n",
       "      <td>23.6</td>\n",
       "    </tr>\n",
       "    <tr>\n",
       "      <th>1</th>\n",
       "      <td>Home</td>\n",
       "      <td>Texas A&amp;M</td>\n",
       "      <td>Houston Christian</td>\n",
       "      <td>115.0</td>\n",
       "      <td>94.7</td>\n",
       "      <td>47.4</td>\n",
       "      <td>18.7</td>\n",
       "      <td>43.7</td>\n",
       "      <td>30.4</td>\n",
       "      <td>47.4</td>\n",
       "      <td>16.9</td>\n",
       "      <td>26.5</td>\n",
       "      <td>31.1</td>\n",
       "    </tr>\n",
       "    <tr>\n",
       "      <th>2</th>\n",
       "      <td>Home</td>\n",
       "      <td>BYU</td>\n",
       "      <td>Florida A&amp;M</td>\n",
       "      <td>117.9</td>\n",
       "      <td>99.7</td>\n",
       "      <td>56.7</td>\n",
       "      <td>16.4</td>\n",
       "      <td>37.6</td>\n",
       "      <td>18.5</td>\n",
       "      <td>44.2</td>\n",
       "      <td>22.8</td>\n",
       "      <td>24.4</td>\n",
       "      <td>33.0</td>\n",
       "    </tr>\n",
       "  </tbody>\n",
       "</table>\n",
       "</div>"
      ],
      "text/plain": [
       "  Location       Team           Opponent   ADJO   ADJD  EFG%   TO%   OR%  \\\n",
       "0  Neutral     Dayton         Cincinnati  118.7  102.5  56.8  13.1  29.5   \n",
       "1     Home  Texas A&M  Houston Christian  115.0   94.7  47.4  18.7  43.7   \n",
       "2     Home        BYU        Florida A&M  117.9   99.7  56.7  16.4  37.6   \n",
       "\n",
       "    FTR  Opp EFG%  Opp TO%  Opp OR%  Opp FTR  \n",
       "0  24.6      57.4     14.2     36.2     23.6  \n",
       "1  30.4      47.4     16.9     26.5     31.1  \n",
       "2  18.5      44.2     22.8     24.4     33.0  "
      ]
     },
     "metadata": {},
     "output_type": "display_data"
    }
   ],
   "source": [
    "data = pd.read_csv(\"basketball_games_data.csv\")\n",
    "display(data.head())"
   ]
  },
  {
   "cell_type": "code",
   "execution_count": null,
   "metadata": {},
   "outputs": [],
   "source": []
  }
 ],
 "metadata": {
  "kernelspec": {
   "display_name": "Python 3",
   "language": "python",
   "name": "python3"
  },
  "language_info": {
   "codemirror_mode": {
    "name": "ipython",
    "version": 3
   },
   "file_extension": ".py",
   "mimetype": "text/x-python",
   "name": "python",
   "nbconvert_exporter": "python",
   "pygments_lexer": "ipython3",
   "version": "3.12.7"
  }
 },
 "nbformat": 4,
 "nbformat_minor": 2
}
