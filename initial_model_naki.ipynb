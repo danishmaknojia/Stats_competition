{
 "cells": [
  {
   "cell_type": "code",
   "execution_count": 18,
   "metadata": {},
   "outputs": [],
   "source": [
    "import pandas as pd\n",
    "from sklearn.ensemble import RandomForestRegressor, GradientBoostingRegressor\n",
    "from sklearn.linear_model import LinearRegression\n",
    "from sklearn.metrics import mean_squared_error\n",
    "from sklearn.model_selection import train_test_split\n",
    "import numpy as np\n",
    "\n",
    "pd.set_option(\"display.max_columns\", None)\n",
    "pd.set_option(\"display.max_rows\", None)"
   ]
  },
  {
   "cell_type": "code",
   "execution_count": 19,
   "metadata": {},
   "outputs": [],
   "source": [
    "data = pd.read_excel('../Stats_competition-/Teams_Data.xlsx')\n",
    "display(data)\n",
    "\n",
    "data = data.dropna(subset=['Opponent_WAB'])\n",
    "print(data.columns)\n",
    "\n",
    "feature_cols = data.columns.difference(['Team', 'Opponent', 'Team Score', 'Opponent Score', 'Team_TEAM','Team_CONF', 'Team_G','Opponent_TEAM','Opponent_CONF', 'Opponent_G'])\n",
    "X = data[feature_cols]\n",
    "y = data[['Team Score', 'Opponent Score']]"
   ]
  },
  {
   "cell_type": "code",
   "execution_count": 24,
   "metadata": {},
   "outputs": [],
   "source": [
    "def train_and_select_best_models(X, y):\n",
    "    models = {}\n",
    "    for target in y.columns:\n",
    "        y_target = y[target]\n",
    "        X_train, X_test, y_train, y_test = train_test_split(X, y_target, test_size=0.2, random_state=42)\n",
    "\n",
    "        candidate_models = {\n",
    "            'RandomForest': RandomForestRegressor(n_estimators=100, random_state=42),\n",
    "            'GradientBoosting': GradientBoostingRegressor(random_state=42),\n",
    "            'LinearRegression': LinearRegression()\n",
    "        }\n",
    "\n",
    "        best_model = None\n",
    "        best_score = float('inf')\n",
    "        for name, model in candidate_models.items():\n",
    "            model.fit(X_train, y_train)\n",
    "            y_pred = model.predict(X_test)\n",
    "            rmse = mean_squared_error(y_test, y_pred, squared=False)\n",
    "            print(f\"{target} - {name}: RMSE = {rmse:.4f}\")\n",
    "            if rmse < best_score:\n",
    "                best_score = rmse\n",
    "                best_model = model\n",
    "\n",
    "        models[target] = best_model\n",
    "        \n",
    "    return models"
   ]
  },
  {
   "cell_type": "code",
   "execution_count": 25,
   "metadata": {},
   "outputs": [
    {
     "name": "stdout",
     "output_type": "stream",
     "text": [
      "Team Score - RandomForest: RMSE = 14.1992\n",
      "Team Score - GradientBoosting: RMSE = 16.2793\n",
      "Team Score - LinearRegression: RMSE = 10.1629\n",
      "Opponent Score - RandomForest: RMSE = 7.5801\n",
      "Opponent Score - GradientBoosting: RMSE = 14.8409\n",
      "Opponent Score - LinearRegression: RMSE = 40.2279\n"
     ]
    },
    {
     "name": "stderr",
     "output_type": "stream",
     "text": [
      "/Library/Frameworks/Python.framework/Versions/3.12/lib/python3.12/site-packages/sklearn/metrics/_regression.py:492: FutureWarning: 'squared' is deprecated in version 1.4 and will be removed in 1.6. To calculate the root mean squared error, use the function'root_mean_squared_error'.\n",
      "  warnings.warn(\n",
      "/Library/Frameworks/Python.framework/Versions/3.12/lib/python3.12/site-packages/sklearn/metrics/_regression.py:492: FutureWarning: 'squared' is deprecated in version 1.4 and will be removed in 1.6. To calculate the root mean squared error, use the function'root_mean_squared_error'.\n",
      "  warnings.warn(\n",
      "/Library/Frameworks/Python.framework/Versions/3.12/lib/python3.12/site-packages/sklearn/metrics/_regression.py:492: FutureWarning: 'squared' is deprecated in version 1.4 and will be removed in 1.6. To calculate the root mean squared error, use the function'root_mean_squared_error'.\n",
      "  warnings.warn(\n",
      "/Library/Frameworks/Python.framework/Versions/3.12/lib/python3.12/site-packages/sklearn/metrics/_regression.py:492: FutureWarning: 'squared' is deprecated in version 1.4 and will be removed in 1.6. To calculate the root mean squared error, use the function'root_mean_squared_error'.\n",
      "  warnings.warn(\n",
      "/Library/Frameworks/Python.framework/Versions/3.12/lib/python3.12/site-packages/sklearn/metrics/_regression.py:492: FutureWarning: 'squared' is deprecated in version 1.4 and will be removed in 1.6. To calculate the root mean squared error, use the function'root_mean_squared_error'.\n",
      "  warnings.warn(\n",
      "/Library/Frameworks/Python.framework/Versions/3.12/lib/python3.12/site-packages/sklearn/metrics/_regression.py:492: FutureWarning: 'squared' is deprecated in version 1.4 and will be removed in 1.6. To calculate the root mean squared error, use the function'root_mean_squared_error'.\n",
      "  warnings.warn(\n"
     ]
    }
   ],
   "source": [
    "models = train_and_select_best_models(X, y)"
   ]
  },
  {
   "cell_type": "code",
   "execution_count": 27,
   "metadata": {},
   "outputs": [],
   "source": [
    "def predict_and_simulate(models, X, n_simulations=10000):\n",
    "    results = []\n",
    "\n",
    "    for idx, row in X.iterrows():\n",
    "        row_results = {'Index': idx}\n",
    "\n",
    "        for target, model in models.items():\n",
    "            score_pred = model.predict([row])[0]\n",
    "\n",
    "            residual_std = 10 \n",
    "            simulated_scores = np.random.normal(score_pred, residual_std, n_simulations)\n",
    "            confidence_interval = (np.percentile(simulated_scores, 2.5), np.percentile(simulated_scores, 97.5))\n",
    "\n",
    "            row_results[f'{target}_Predicted_Score'] = score_pred\n",
    "            row_results[f'{target}_Confidence_Interval'] = confidence_interval\n",
    "\n",
    "        results.append(row_results)\n",
    "\n",
    "    return pd.DataFrame(results)\n",
    "\n"
   ]
  },
  {
   "cell_type": "code",
   "execution_count": 30,
   "metadata": {},
   "outputs": [],
   "source": [
    "test_df = pd.read_excel('../Stats_competition-/Teams_Data_test.xlsx')\n",
    "test_X = test_df[feature_cols] \n",
    "results_df = predict_and_simulate(models, test_X)"
   ]
  },
  {
   "cell_type": "code",
   "execution_count": 33,
   "metadata": {},
   "outputs": [],
   "source": [
    "df_combined = pd.concat([test_df, results_df.drop('Index', axis = 1)], axis = 1)\n",
    "final = df_combined[['Team', 'Opponent','Team Score_Predicted_Score',\n",
    "       'Team Score_Confidence_Interval', 'Opponent Score_Predicted_Score',\n",
    "       'Opponent Score_Confidence_Interval']]"
   ]
  }
 ],
 "metadata": {
  "kernelspec": {
   "display_name": "Python 3",
   "language": "python",
   "name": "python3"
  },
  "language_info": {
   "codemirror_mode": {
    "name": "ipython",
    "version": 3
   },
   "file_extension": ".py",
   "mimetype": "text/x-python",
   "name": "python",
   "nbconvert_exporter": "python",
   "pygments_lexer": "ipython3",
   "version": "3.12.7"
  }
 },
 "nbformat": 4,
 "nbformat_minor": 2
}
